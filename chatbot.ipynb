{
 "cells": [
  {
   "cell_type": "markdown",
   "metadata": {},
   "source": [
    "1. Import Necessary Libraries\n"
   ]
  },
  {
   "cell_type": "code",
   "execution_count": 32,
   "metadata": {},
   "outputs": [],
   "source": [
    "# Import the conversational AI model and tokenizer from Hugging Face's Transformers library\n",
    "from transformers import AutoModelForCausalLM,AutoTokenizer\n",
    "\n",
    "# Import PyTorch for model usage\n",
    "import torch\n",
    "\n",
    "# Import tkinter library to create the GUI for the chatbot\n",
    "import tkinter as tk\n",
    "\n",
    "# Import scrolledtext for scrollable chat window and font for styling\n",
    "from tkinter import scrolledtext,font\n",
    "\n",
    "# Import time library for response delay\n",
    "import time\n",
    "\n",
    "# Import langdetect for detecting the user's language in messages\n",
    "import langdetect"
   ]
  },
  {
   "cell_type": "markdown",
   "metadata": {},
   "source": [
    "2. Load the Model and Tokenizer\n"
   ]
  },
  {
   "cell_type": "code",
   "execution_count": 33,
   "metadata": {},
   "outputs": [],
   "source": [
    "# Define the pre-trained model name from Hugging Face's library (DialoGPT medium model)\n",
    "model_name=\"microsoft/DialoGPT-medium\"\n",
    "\n",
    "# Load the tokenizer for the model\n",
    "tokenizer=AutoTokenizer.from_pretrained(model_name)\n",
    "\n",
    "# Load the conversational AI model\n",
    "model=AutoModelForCausalLM.from_pretrained(model_name)\n",
    "\n",
    "# Initialize a variable to store chat history\n",
    "chat_history_ids=None"
   ]
  },
  {
   "cell_type": "markdown",
   "metadata": {},
   "source": [
    "3. Language Detection Function\n"
   ]
  },
  {
   "cell_type": "code",
   "execution_count": 34,
   "metadata": {},
   "outputs": [],
   "source": [
    "# Function to detect the language of the user's message\n",
    "def detect_language(text):\n",
    "    \"\"\"Detects the language of the user's message.\"\"\"\n",
    "    try:\n",
    "        # Use langdetect to determine the language code of the text\n",
    "        lang=langdetect.detect(text)\n",
    "        # Return English or Turkish based on the detected language\n",
    "        if lang==\"en\":\n",
    "            return \"English\"\n",
    "        elif lang==\"tr\":\n",
    "            return \"Turkish\"\n",
    "        else:\n",
    "            return \"Unknown\"\n",
    "    except:\n",
    "        # Return 'Unknown' if detection fails\n",
    "        return \"Unknown\""
   ]
  },
  {
   "cell_type": "markdown",
   "metadata": {},
   "source": [
    "4. Generate Chatbot Response Function\n"
   ]
  },
  {
   "cell_type": "code",
   "execution_count": 35,
   "metadata": {},
   "outputs": [],
   "source": [
    "# Function to generate a response from the chatbot based on the user's input\n",
    "def get_chatbot_response(user_input):\n",
    "    \"\"\"Generates a response from the model based on user input.\"\"\"\n",
    "    global chat_history_ids\n",
    "    # Encode the user's input and add an end-of-sequence token\n",
    "    new_user_input_ids = tokenizer.encode(user_input + tokenizer.eos_token, return_tensors='pt')\n",
    "    # If chat history exists, concatenate with new input; otherwise, start a new chat\n",
    "    bot_input_ids = new_user_input_ids if chat_history_ids is None else torch.cat([chat_history_ids, new_user_input_ids], dim=-1)\n",
    "    # Generate the bot's response based on the conversation context\n",
    "    response = model.generate(bot_input_ids, max_length=1000, pad_token_id=tokenizer.eos_token_id)\n",
    "    # Decode the response to readable text\n",
    "    bot_response = tokenizer.decode(response[:, bot_input_ids.shape[-1]:][0], skip_special_tokens=True)\n",
    "    # Update chat history with the latest input and response\n",
    "    chat_history_ids = bot_input_ids\n",
    "    return bot_response"
   ]
  },
  {
   "cell_type": "markdown",
   "metadata": {},
   "source": [
    "5. Send Message Function\n"
   ]
  },
  {
   "cell_type": "code",
   "execution_count": 36,
   "metadata": {},
   "outputs": [],
   "source": [
    "# Function to display user's message and generate a bot response\n",
    "def send_message(event=None):\n",
    "    \"\"\"Displays user's message and generates a bot response.\"\"\"\n",
    "    # Retrieve user's input from input field\n",
    "    user_input = user_input_field.get()\n",
    "    user_input_field.delete(0, tk.END)  # Clear the input field after getting the message\n",
    "\n",
    "    # If user input is empty, ignore it\n",
    "    if user_input.strip() == \"\":\n",
    "        return\n",
    "\n",
    "    # Limit message length to prevent long inputs\n",
    "    if len(user_input) > 100:\n",
    "        chat_window.configure(state='normal')\n",
    "        chat_window.insert(tk.END, \"Chatbot: Please keep your message under 100 characters.\\n\", 'bot')\n",
    "        chat_window.configure(state='disabled')\n",
    "        return\n",
    "\n",
    "    # Detect the user's language\n",
    "    user_language = detect_language(user_input)\n",
    "\n",
    "    # Display the user's message in the chat window\n",
    "    chat_window.configure(state='normal')\n",
    "    chat_window.insert(tk.END, \"User: \" + user_input + '\\n', 'user')\n",
    "    chat_window.configure(state='disabled')\n",
    "\n",
    "    # Display a \"thinking\" message from the bot while generating a response\n",
    "    chat_window.configure(state='normal')\n",
    "    chat_window.insert(tk.END, \"Chatbot: ... (thinking)\\n\", 'bot')\n",
    "    chat_window.configure(state='disabled')\n",
    "\n",
    "    # Scroll to the bottom of the chat window\n",
    "    chat_window.yview(tk.END)\n",
    "    root.update_idletasks()  # Update the GUI for immediate feedback\n",
    "    time.sleep(1)  # Simulate delay in response\n",
    "\n",
    "    # Generate a bot response to the user's input\n",
    "    bot_response = get_chatbot_response(user_input)\n",
    "\n",
    "    # Display the bot's response in the chat window\n",
    "    chat_window.configure(state='normal')\n",
    "    chat_window.delete(\"end-1c\")  # Remove \"thinking\" message\n",
    "    chat_window.insert(tk.END, \"Chatbot: \" + bot_response + '\\n', 'bot')\n",
    "    chat_window.configure(state='disabled')\n",
    "    chat_window.yview(tk.END)  # Scroll to bottom\n"
   ]
  },
  {
   "cell_type": "markdown",
   "metadata": {},
   "source": [
    "6. Clear Chat Function\n"
   ]
  },
  {
   "cell_type": "code",
   "execution_count": 37,
   "metadata": {},
   "outputs": [],
   "source": [
    "# Function to clear chat and reset the chat window with a welcome message\n",
    "def clear_chat():\n",
    "    \"\"\"Clears the chat window and displays a welcome message.\"\"\"\n",
    "    chat_window.configure(state='normal')\n",
    "    chat_window.delete(1.0, tk.END)  # Clear all text in chat window\n",
    "    chat_window.insert(tk.END, \"Chatbot: Hello! I am here to help. How can I assist you?\\n\", 'bot')\n",
    "    chat_window.configure(state='disabled')\n"
   ]
  },
  {
   "cell_type": "markdown",
   "metadata": {},
   "source": [
    "7. Initialize the Tkinter Window\n"
   ]
  },
  {
   "cell_type": "code",
   "execution_count": 38,
   "metadata": {},
   "outputs": [
    {
     "data": {
      "text/plain": [
       "''"
      ]
     },
     "execution_count": 38,
     "metadata": {},
     "output_type": "execute_result"
    }
   ],
   "source": [
    "# Initialize the main window for the application\n",
    "root = tk.Tk()\n",
    "root.title(\"Chatbot Application\")  # Set the window title\n",
    "root.geometry(\"500x600\")  # Set the window size\n",
    "root.resizable(False, False)  # Disable resizing\n"
   ]
  },
  {
   "cell_type": "markdown",
   "metadata": {},
   "source": [
    "8. Configure Fonts\n"
   ]
  },
  {
   "cell_type": "code",
   "execution_count": 39,
   "metadata": {},
   "outputs": [],
   "source": [
    "# Configure font settings for the chat window and input fields\n",
    "style = font.Font(family=\"Helvetica\", size=10)\n"
   ]
  },
  {
   "cell_type": "markdown",
   "metadata": {},
   "source": [
    "9. Create the Chat Window\n"
   ]
  },
  {
   "cell_type": "code",
   "execution_count": 40,
   "metadata": {},
   "outputs": [],
   "source": [
    "# Create a scrollable chat window where conversation history is displayed\n",
    "chat_window = scrolledtext.ScrolledText(root, state='disabled', wrap=tk.WORD, font=style)\n",
    "chat_window.grid(row=0, column=0, columnspan=2, padx=10, pady=10, sticky='nsew')\n"
   ]
  },
  {
   "cell_type": "markdown",
   "metadata": {},
   "source": [
    "10. User Input Field\n"
   ]
  },
  {
   "cell_type": "code",
   "execution_count": 41,
   "metadata": {},
   "outputs": [],
   "source": [
    "# Input field for the user to type messages\n",
    "user_input_field = tk.Entry(root, width=40, font=style)\n",
    "user_input_field.grid(row=1, column=0, padx=(10, 5), pady=10, sticky='ew')\n"
   ]
  },
  {
   "cell_type": "markdown",
   "metadata": {},
   "source": [
    "11. Send and Clear Buttons\n"
   ]
  },
  {
   "cell_type": "code",
   "execution_count": 42,
   "metadata": {},
   "outputs": [],
   "source": [
    "# Button to send messages\n",
    "send_button = tk.Button(root, text=\"➤\", command=send_message, font=style, bg=\"lightblue\", width=3)\n",
    "send_button.grid(row=1, column=1, padx=(5, 10), pady=10, sticky='w')\n",
    "\n",
    "# Centered button to clear the chat history\n",
    "clear_button = tk.Button(root, text=\"Clear\", command=clear_chat, font=style, bg=\"lightcoral\")\n",
    "clear_button.grid(row=2, column=0, columnspan=2, pady=5)\n"
   ]
  },
  {
   "cell_type": "markdown",
   "metadata": {},
   "source": [
    "12. Configure Tags for Text Colors\n"
   ]
  },
  {
   "cell_type": "code",
   "execution_count": 43,
   "metadata": {},
   "outputs": [],
   "source": [
    "# Configure color for user and bot messages\n",
    "chat_window.tag_config('user', foreground='blue')  # User messages in blue\n",
    "chat_window.tag_config('bot', foreground='green')  # Bot messages in green\n"
   ]
  },
  {
   "cell_type": "markdown",
   "metadata": {},
   "source": [
    "13. Display Initial Welcome Message\n"
   ]
  },
  {
   "cell_type": "code",
   "execution_count": 44,
   "metadata": {},
   "outputs": [],
   "source": [
    "# Display an initial welcome message from the bot when the application starts\n",
    "chat_window.configure(state='normal')\n",
    "chat_window.insert(tk.END, \"Chatbot: Hello! I am here to help. How can I assist you?\\n\", 'bot')\n",
    "chat_window.configure(state='disabled')\n"
   ]
  },
  {
   "cell_type": "markdown",
   "metadata": {},
   "source": [
    "14. Key Bindings and Start Application\n"
   ]
  },
  {
   "cell_type": "code",
   "execution_count": 45,
   "metadata": {},
   "outputs": [],
   "source": [
    "# Bind the Enter key to the send message function\n",
    "user_input_field.bind('<Return>', send_message)\n",
    "\n",
    "# Start the main application loop\n",
    "root.mainloop()\n"
   ]
  }
 ],
 "metadata": {
  "kernelspec": {
   "display_name": "base",
   "language": "python",
   "name": "python3"
  },
  "language_info": {
   "codemirror_mode": {
    "name": "ipython",
    "version": 3
   },
   "file_extension": ".py",
   "mimetype": "text/x-python",
   "name": "python",
   "nbconvert_exporter": "python",
   "pygments_lexer": "ipython3",
   "version": "3.12.4"
  }
 },
 "nbformat": 4,
 "nbformat_minor": 2
}
