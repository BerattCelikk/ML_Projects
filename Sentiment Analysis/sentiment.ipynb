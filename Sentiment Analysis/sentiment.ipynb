{
 "cells": [
  {
   "cell_type": "code",
   "execution_count": 18,
   "metadata": {},
   "outputs": [
    {
     "name": "stdout",
     "output_type": "stream",
     "text": [
      "                                              review sentiment\n",
      "0  One of the other reviewers has mentioned that ...  positive\n",
      "1  A wonderful little production. <br /><br />The...  positive\n",
      "2  I thought this was a wonderful way to spend ti...  positive\n",
      "3  Basically there's a family where a little boy ...  negative\n",
      "4  Petter Mattei's \"Love in the Time of Money\" is...  positive\n"
     ]
    }
   ],
   "source": [
    "# Import necessary libraries\n",
    "import pandas as pd  # Pandas is used for data manipulation and analysis\n",
    "import re  # Regular expressions library for text processing\n",
    "from nltk.corpus import stopwords  # NLTK's stopwords for natural language processing\n",
    "from nltk.stem import PorterStemmer  # Porter stemmer for word stemming\n",
    "from sklearn.feature_extraction.text import TfidfVectorizer  # For transforming text to TF-IDF features\n",
    "from sklearn.model_selection import train_test_split  # For splitting the dataset into training and testing sets\n",
    "from sklearn.linear_model import LogisticRegression  # Logistic regression model for classification\n",
    "from sklearn.metrics import classification_report, accuracy_score  # Metrics for evaluating model performance\n",
    "\n",
    "# Load the dataset\n",
    "data_path = 'IMDB_dataset.csv'  # Update with your CSV file path\n",
    "df = pd.read_csv(data_path)  # Read the CSV file into a DataFrame\n",
    "\n",
    "# Display the first few rows of the DataFrame\n",
    "print(df.head())  # Print the first five rows of the DataFrame to see the structure of the data\n"
   ]
  },
  {
   "cell_type": "markdown",
   "metadata": {},
   "source": [
    "Code Explanation\n",
    "\n",
    "Import Necessary Libraries:\n",
    "\n",
    "import pandas as pd:\n",
    "\n",
    "Purpose: This imports the Pandas library, which is essential for data manipulation and analysis, particularly for handling data in tabular format (like DataFrames).\n",
    "\n",
    "import re:\n",
    "\n",
    "Purpose: Imports the regular expressions library, used for searching and manipulating strings using pattern matching.\n",
    "\n",
    "from nltk.corpus import stopwords:\n",
    "\n",
    "Purpose: Imports a predefined list of stopwords from the Natural Language Toolkit (NLTK). These are common words (like \"and\", \"the\") that are typically removed in text processing to focus on more meaningful words.\n",
    "\n",
    "from nltk.stem import PorterStemmer:\n",
    "\n",
    "Purpose: Imports the Porter stemmer, a tool that reduces words to their base or root form (stemming). This helps in normalizing words for better text analysis.\n",
    "\n",
    "from sklearn.feature_extraction.text import TfidfVectorizer:\n",
    "\n",
    "Purpose: Imports the TF-IDF vectorizer from Scikit-learn. This tool transforms text documents into numerical feature vectors, representing the importance of each word in the context of the document and the overall dataset.\n",
    "\n",
    "from sklearn.model_selection import train_test_split:\n",
    "\n",
    "Purpose: Imports a function that splits the dataset into training and testing sets, which is crucial for evaluating the performance of machine learning models.\n",
    "\n",
    "from sklearn.linear_model import LogisticRegression:\n",
    "\n",
    "Purpose: Imports the logistic regression model from Scikit-learn. This is a popular algorithm for binary classification tasks (like sentiment analysis).\n",
    "\n",
    "from sklearn.metrics import classification_report, accuracy_score:\n",
    "\n",
    "Purpose: Imports functions to compute various performance metrics for the model, such as accuracy and detailed classification reports.\n",
    "Load the Dataset:\n",
    "\n",
    "data_path = 'IMDB_dataset.csv':\n",
    "\n",
    "Purpose: This line sets the file path for the CSV file containing the IMDB dataset. It should be updated based on where the file is stored on your system.\n",
    "\n",
    "df = pd.read_csv(data_path):\n",
    "\n",
    "Purpose: Reads the CSV file into a Pandas DataFrame named df, allowing you to manipulate and analyze the data easily.\n",
    "Display the First Few Rows of the DataFrame:\n",
    "\n",
    "print(df.head()):\n",
    "\n",
    "Purpose: This command prints the first five rows of the DataFrame to the console. It's a useful way to quickly inspect the structure of the dataset, including the columns and a preview of the data."
   ]
  },
  {
   "cell_type": "code",
   "execution_count": 20,
   "metadata": {},
   "outputs": [
    {
     "name": "stderr",
     "output_type": "stream",
     "text": [
      "[nltk_data] Downloading package stopwords to\n",
      "[nltk_data]     C:\\Users\\berat\\AppData\\Roaming\\nltk_data...\n",
      "[nltk_data]   Package stopwords is already up-to-date!\n"
     ]
    }
   ],
   "source": [
    "# Start NLTK for stop words and stemmer\n",
    "import nltk  # Importing the NLTK library for natural language processing\n",
    "nltk.download('stopwords')  # Download necessary data for stop words\n",
    "\n",
    "# Set of English stop words\n",
    "stop_words = set(stopwords.words('english'))  # Create a set of English stop words\n",
    "\n",
    "# Initialize the Porter stemmer\n",
    "stemmer = PorterStemmer()  # Create an instance of the Porter stemmer for stemming words\n",
    "\n",
    "# Text cleaning function\n",
    "def clean_text(text):\n",
    "    text = text.lower()  # Convert the text to lowercase\n",
    "    text = re.sub(r'[^\\w\\s]', '', text)  # Remove punctuation and numbers from the text\n",
    "    text = ' '.join(stemmer.stem(word) for word in text.split() if word not in stop_words)  # Remove stop words and stem the remaining words\n",
    "    return text  # Return the cleaned text\n"
   ]
  },
  {
   "cell_type": "markdown",
   "metadata": {},
   "source": [
    "Code Explanation\n",
    "\n",
    "Start NLTK for Stop Words and Stemmer:\n",
    "\n",
    "import nltk:\n",
    "\n",
    "Purpose: This line imports the Natural Language Toolkit (NLTK), a powerful library for working with human language data in Python, facilitating tasks like text processing and analysis.\n",
    "\n",
    "nltk.download('stopwords'):\n",
    "\n",
    "Purpose: Downloads the stop words dataset from NLTK, which contains a list of common words in English that are typically ignored in text processing, such as \"and\", \"the\", and \"is\".\n",
    "\n",
    "Set of English Stop Words:\n",
    "\n",
    "stop_words = set(stopwords.words('english')):\n",
    "\n",
    "Purpose: This line creates a set containing English stop words from the NLTK library. Using a set allows for faster lookups when filtering words later in the text cleaning process.\n",
    "\n",
    "Initialize the Porter Stemmer:\n",
    "\n",
    "stemmer = PorterStemmer():\n",
    "\n",
    "Purpose: This line initializes an instance of the Porter stemmer, which is used to reduce words to their root form. Stemming helps in normalizing words, which is particularly useful for text analysis.\n",
    "\n",
    "Text Cleaning Function:\n",
    "\n",
    "def clean_text(text):\n",
    "\n",
    "Purpose: This defines a function named clean_text that takes a string text as input and performs various cleaning operations on it.\n",
    "\n",
    "text = text.lower():\n",
    "\n",
    "Purpose: Converts all characters in the text to lowercase. This ensures uniformity, so \"Word\" and \"word\" are treated the same.\n",
    "\n",
    "text = re.sub(r'[^\\w\\s]', '', text):\n",
    "\n",
    "Purpose: Uses regular expressions to remove all punctuation marks and numbers from the text, leaving only words and whitespace.\n",
    "\n",
    "text = ' '.join(stemmer.stem(word) for word in text.split() if word not in stop_words):\n",
    "\n",
    "Purpose: This line processes the text by:\n",
    "\n",
    "Splitting it into individual words.\n",
    "Filtering out any stop words.\n",
    "Stemming the remaining words to their root forms using the Porter stemmer.\n",
    "Joining the cleaned words back into a single string.\n",
    "\n",
    "return text:\n",
    "Purpose: Returns the cleaned text as the output of the function."
   ]
  },
  {
   "cell_type": "code",
   "execution_count": 21,
   "metadata": {},
   "outputs": [
    {
     "name": "stdout",
     "output_type": "stream",
     "text": [
      "                                              review  \\\n",
      "0  One of the other reviewers has mentioned that ...   \n",
      "1  A wonderful little production. <br /><br />The...   \n",
      "2  I thought this was a wonderful way to spend ti...   \n",
      "3  Basically there's a family where a little boy ...   \n",
      "4  Petter Mattei's \"Love in the Time of Money\" is...   \n",
      "\n",
      "                                      cleaned_review  \n",
      "0  one review mention watch 1 oz episod youll hoo...  \n",
      "1  wonder littl product br br film techniqu unass...  \n",
      "2  thought wonder way spend time hot summer weeke...  \n",
      "3  basic there famili littl boy jake think there ...  \n",
      "4  petter mattei love time money visual stun film...  \n"
     ]
    }
   ],
   "source": [
    "# Apply the cleaning function to create a 'cleaned_review' column\n",
    "df['cleaned_review'] = df['review'].apply(clean_text)  # Apply the clean_text function to each entry in the 'review' column\n",
    "\n",
    "# Display the first few rows of the new column\n",
    "print(df[['review', 'cleaned_review']].head())  # Print the original and cleaned reviews for comparison\n"
   ]
  },
  {
   "cell_type": "code",
   "execution_count": 22,
   "metadata": {},
   "outputs": [
    {
     "name": "stdout",
     "output_type": "stream",
     "text": [
      "Feature matrix shape: (50000, 142536)\n"
     ]
    }
   ],
   "source": [
    "# Create a TF-IDF vectorizer\n",
    "vectorizer = TfidfVectorizer()  # Initialize the TF-IDF vectorizer to convert text data into numerical features\n",
    "\n",
    "# Transform the cleaned review text into TF-IDF features\n",
    "X = vectorizer.fit_transform(df['cleaned_review'])  # Fit the vectorizer on the cleaned reviews and transform them into a sparse matrix\n",
    "\n",
    "# Define the target variable (sentiment)\n",
    "y = df['sentiment']  # Set the target variable 'y' to the 'sentiment' column, which contains the labels\n",
    "\n",
    "# Check the dimensions of the feature matrix\n",
    "print(\"Feature matrix shape:\", X.shape)  # Print the shape of the feature matrix to understand its size and dimensionality\n"
   ]
  },
  {
   "cell_type": "code",
   "execution_count": 23,
   "metadata": {},
   "outputs": [
    {
     "name": "stdout",
     "output_type": "stream",
     "text": [
      "Training set size: (40000, 142536)\n",
      "Test set size: (10000, 142536)\n"
     ]
    }
   ],
   "source": [
    "# Split the data into training and testing sets\n",
    "X_train, X_test, y_train, y_test = train_test_split(X, y, test_size=0.2, random_state=42)  \n",
    "# Use the train_test_split function to split the feature matrix X and target variable y into training and testing sets\n",
    "# test_size=0.2 specifies that 20% of the data will be used for testing, and random_state ensures reproducibility of the split\n",
    "\n",
    "# Check the dimensions of the training and testing sets\n",
    "print(\"Training set size:\", X_train.shape)  # Print the shape of the training feature matrix\n",
    "print(\"Test set size:\", X_test.shape)  # Print the shape of the testing feature matrix\n"
   ]
  },
  {
   "cell_type": "code",
   "execution_count": 24,
   "metadata": {},
   "outputs": [
    {
     "name": "stdout",
     "output_type": "stream",
     "text": [
      "Model training completed.\n"
     ]
    }
   ],
   "source": [
    "# Create the Logistic Regression model\n",
    "model = LogisticRegression(max_iter=1000)  # Initialize the Logistic Regression model with a maximum of 1000 iterations\n",
    "# Increasing max_iter may lead to better convergence of the model during training\n",
    "\n",
    "# Train the model on the training data\n",
    "model.fit(X_train, y_train)  # Fit the model to the training data (X_train) and corresponding labels (y_train)\n",
    "\n",
    "# Training process completed\n",
    "print(\"Model training completed.\")  # Print a message indicating that the model training is finished\n"
   ]
  },
  {
   "cell_type": "code",
   "execution_count": 25,
   "metadata": {},
   "outputs": [
    {
     "name": "stdout",
     "output_type": "stream",
     "text": [
      "Accuracy Score: 0.8925\n",
      "\n",
      "Classification Report:\n",
      "               precision    recall  f1-score   support\n",
      "\n",
      "    negative       0.90      0.88      0.89      4961\n",
      "    positive       0.88      0.91      0.89      5039\n",
      "\n",
      "    accuracy                           0.89     10000\n",
      "   macro avg       0.89      0.89      0.89     10000\n",
      "weighted avg       0.89      0.89      0.89     10000\n",
      "\n"
     ]
    }
   ],
   "source": [
    "# Make predictions on the test data\n",
    "y_pred = model.predict(X_test)  # Use the trained model to predict sentiments for the test feature set (X_test)\n",
    "\n",
    "# Calculate performance metrics\n",
    "print(\"Accuracy Score:\", accuracy_score(y_test, y_pred))  # Calculate and print the accuracy of the predictions\n",
    "\n",
    "# Display the classification report\n",
    "print(\"\\nClassification Report:\\n\", classification_report(y_test, y_pred))  # Generate and print a detailed classification report\n"
   ]
  },
  {
   "cell_type": "markdown",
   "metadata": {},
   "source": [
    "Classification Report Breakdown\n",
    "\n",
    "The classification report provides detailed metrics that evaluate the performance of the model for each class. The report includes precision, recall, F1-score, and support for both the negative and positive sentiment classes.\n",
    "\n",
    "Metrics Explained:\n",
    "\n",
    "Precision:\n",
    "\n",
    "Negative: 0.90\n",
    "\n",
    "Positive: 0.88\n",
    "\n",
    "Interpretation: Precision measures the proportion of true positive predictions relative to the total predicted positives. For example, a precision of 0.90 for the negative class means that 90% of the samples predicted as negative were actually negative. Similarly, 88% of the positive predictions were correct.\n",
    "\n",
    "Recall:\n",
    "\n",
    "Negative: 0.88\n",
    "\n",
    "Positive: 0.91\n",
    "\n",
    "Interpretation: Recall (also known as sensitivity) measures the proportion of true positive predictions relative to the total actual positives. A recall of 0.88 for the negative class indicates that the model correctly identified 88% of the actual negative reviews, while a recall of 0.91 for the positive class indicates it correctly identified 91% of the actual positive reviews.\n",
    "\n",
    "F1-score:\n",
    "\n",
    "Negative: 0.89\n",
    "\n",
    "Positive: 0.89\n",
    "\n",
    "Interpretation: The F1-score is the harmonic mean of precision and recall, providing a single score that balances both metrics. An F1-score of 0.89 for both classes indicates that the model has a good balance between precision and recall, making it effective in classifying both negative and positive reviews.\n",
    "\n",
    "Support:\n",
    "\n",
    "Negative: 4961\n",
    "\n",
    "Positive: 5039\n",
    "\n",
    "Interpretation: Support represents the number of actual occurrences of each class in the test dataset. There were 4,961 negative reviews and 5,039 positive reviews in the test set."
   ]
  },
  {
   "cell_type": "code",
   "execution_count": 26,
   "metadata": {},
   "outputs": [
    {
     "name": "stdout",
     "output_type": "stream",
     "text": [
      "                                                  review    actual predicted\n",
      "33553  [hene, borga, headshrink, tatanka, ludvig, lug...  positive  negative\n",
      "49498  [infinnerti, quasimelfi, monkslap, antepurgato...  positive  negative\n",
      "6113   [edisonbr, diniro, waterburi, braini, effortsb...  positive  negative\n",
      "15118  [lewinski, relent, careerbut, excis, delet, an...  positive  negative\n",
      "33109  [redband, taratula, mtvj, lethin, r1, rosenber...  positive  negative\n"
     ]
    }
   ],
   "source": [
    "# Find incorrectly predicted samples\n",
    "incorrect_predictions = X_test[y_test != y_pred]  # Select the feature vectors from X_test where the actual labels (y_test) do not match the predicted labels (y_pred)\n",
    "incorrect_labels = y_test[y_test != y_pred]  # Store the actual sentiment labels for those incorrectly predicted samples\n",
    "predicted_labels = y_pred[y_test != y_pred]  # Store the predicted sentiment labels for the incorrectly predicted samples\n",
    "\n",
    "# Add the incorrect predictions to a DataFrame\n",
    "incorrect_df = pd.DataFrame({  # Create a new DataFrame to store incorrect predictions\n",
    "    'review': vectorizer.inverse_transform(incorrect_predictions),  # Convert the TF-IDF feature vectors back to original text using inverse_transform\n",
    "    'actual': incorrect_labels,  # Include the actual labels for each review\n",
    "    'predicted': predicted_labels  # Include the predicted labels for each review\n",
    "})\n",
    "\n",
    "# Display the first few incorrect predictions\n",
    "print(incorrect_df.head())  # Print the first five rows of the DataFrame to see the misclassified reviews along with their actual and predicted labels\n"
   ]
  },
  {
   "cell_type": "code",
   "execution_count": 27,
   "metadata": {},
   "outputs": [
    {
     "name": "stdout",
     "output_type": "stream",
     "text": [
      "                                                  review    actual predicted\n",
      "33553  hene borga headshrink tatanka ludvig luger sum...  positive  negative\n",
      "49498  infinnerti quasimelfi monkslap antepurgatori p...  positive  negative\n",
      "6113   edisonbr diniro waterburi braini effortsbr ill...  positive  negative\n",
      "15118  lewinski relent careerbut excis delet anderson...  positive  negative\n",
      "33109  redband taratula mtvj lethin r1 rosenberg lori...  positive  negative\n"
     ]
    }
   ],
   "source": [
    "# Combine stemmed words into a single string\n",
    "incorrect_df['review'] = incorrect_df['review'].apply(lambda x: ' '.join(x))  # Apply a function to the 'review' column to join the list of words back into a single string for each review\n",
    "\n",
    "# Display the first few incorrect predictions\n",
    "print(incorrect_df[['review', 'actual', 'predicted']].head())  # Print the first five rows of the DataFrame, showing the review text, actual sentiment, and predicted sentiment\n"
   ]
  },
  {
   "cell_type": "code",
   "execution_count": 28,
   "metadata": {},
   "outputs": [
    {
     "data": {
      "image/png": "[encoded data removed]",
      "text/plain": [
       "<Figure size 800x600 with 2 Axes>"
      ]
     },
     "metadata": {},
     "output_type": "display_data"
    }
   ],
   "source": [
    "import matplotlib.pyplot as plt  # Importing the pyplot module from matplotlib for plotting\n",
    "import seaborn as sns  # Importing seaborn for enhanced data visualization\n",
    "from sklearn.metrics import confusion_matrix  # Importing the confusion_matrix function for evaluating model performance\n",
    "\n",
    "# Create the confusion matrix\n",
    "cm = confusion_matrix(y_test, y_pred)  # Calculate the confusion matrix using the true labels (y_test) and predicted labels (y_pred)\n",
    "\n",
    "# Visualize the confusion matrix\n",
    "plt.figure(figsize=(8, 6))  # Set the figure size for the plot\n",
    "sns.heatmap(cm, annot=True, fmt='d', cmap='Blues', xticklabels=['Negative', 'Positive'], yticklabels=['Negative', 'Positive'])  \n",
    "# Create a heatmap of the confusion matrix with annotations, setting the color map to 'Blues' and labeling the axes\n",
    "\n",
    "plt.ylabel('True Value')  # Label for the y-axis indicating true values\n",
    "plt.xlabel('Predicted Value')  # Label for the x-axis indicating predicted values\n",
    "plt.title('Confusion Matrix')  # Set the title of the plot\n",
    "plt.show()  # Display the plot\n"
   ]
  },
  {
   "cell_type": "code",
   "execution_count": 30,
   "metadata": {},
   "outputs": [
    {
     "data": {
      "image/png": "[encoded data removed]",
      "text/plain": [
       "<Figure size 640x480 with 1 Axes>"
      ]
     },
     "metadata": {},
     "output_type": "display_data"
    }
   ],
   "source": [
    "from sklearn.metrics import roc_curve, auc  # Importing functions to compute ROC curve and AUC\n",
    "\n",
    "# Create the ROC curve\n",
    "fpr, tpr, _ = roc_curve(y_test, model.predict_proba(X_test)[:, 1], pos_label='positive')  \n",
    "# Compute false positive rate (fpr) and true positive rate (tpr) for different threshold values\n",
    "# model.predict_proba(X_test)[:, 1] gets the predicted probabilities of the positive class\n",
    "\n",
    "roc_auc = auc(fpr, tpr)  # Calculate the area under the ROC curve (AUC) using fpr and tpr\n",
    "\n",
    "# Plot the ROC curve\n",
    "plt.figure()  # Create a new figure for the plot\n",
    "plt.plot(fpr, tpr, color='darkorange', lw=2, label='ROC curve (area = %0.2f)' % roc_auc)  \n",
    "# Plot the ROC curve with the false positive rate on the x-axis and true positive rate on the y-axis\n",
    "# The curve is labeled with the AUC value\n",
    "\n",
    "plt.plot([0, 1], [0, 1], color='navy', lw=2, linestyle='--')  # Plot a dashed diagonal line for the baseline\n",
    "plt.xlim([0.0, 1.0])  # Set the x-axis limits from 0 to 1\n",
    "plt.ylim([0.0, 1.05])  # Set the y-axis limits from 0 to 1.05\n",
    "\n",
    "plt.xlabel('False Positive Rate')  # Label for the x-axis indicating false positive rate\n",
    "plt.ylabel('True Positive Rate')  # Label for the y-axis indicating true positive rate\n",
    "plt.title('Receiver Operating Characteristic (ROC) Curve')  # Set the title of the plot\n",
    "plt.legend(loc='lower right')  # Place the legend in the lower right corner of the plot\n",
    "plt.show()  # Display the ROC curve plot\n"
   ]
  },
  {
   "cell_type": "markdown",
   "metadata": {},
   "source": [
    "Explanation of Each Section:\n",
    "\n",
    "Importing Functions:\n",
    "\n",
    "The first line imports roc_curve and auc from sklearn.metrics, which are used to compute the ROC curve and the area under the curve (AUC), respectively.\n",
    "\n",
    "Creating the ROC Curve:\n",
    "\n",
    "The roc_curve function calculates the false positive rate (fpr) and true positive rate (tpr) at various threshold settings. The predicted probabilities for the positive class are obtained using model.predict_proba(X_test)[:, 1]. The pos_label parameter is set to 'positive', indicating which class is considered the positive class.\n",
    "\n",
    "Calculating AUC:\n",
    "\n",
    "The auc function computes the area under the ROC curve, providing a single scalar value that represents the overall performance of the model in distinguishing between the positive and negative classes.\n",
    "\n",
    "Plotting the ROC Curve:\n",
    "\n",
    "A new figure is created for the ROC curve plot.\n",
    "The plt.plot function is used to create the ROC curve, plotting fpr on the x-axis and tpr on the y-axis. The line is styled and labeled with the AUC value for clarity.\n",
    "A dashed line representing the baseline (where the model makes random predictions) is plotted from (0,0) to (1,1) to help visualize model performance relative to random guessing.\n",
    "The x-axis and y-axis limits are set to provide a clear view of the curve.\n",
    "Labels for the axes and a title for the plot are added for context.\n",
    "\n",
    "Finally, plt.show() displays the ROC curve, allowing you to visually assess the model's performance in classifying the positive class."
   ]
  }
 ],
 "metadata": {
  "kernelspec": {
   "display_name": "base",
   "language": "python",
   "name": "python3"
  },
  "language_info": {
   "codemirror_mode": {
    "name": "ipython",
    "version": 3
   },
   "file_extension": ".py",
   "mimetype": "text/x-python",
   "name": "python",
   "nbconvert_exporter": "python",
   "pygments_lexer": "ipython3",
   "version": "3.12.4"
  }
 },
 "nbformat": 4,
 "nbformat_minor": 2
}
